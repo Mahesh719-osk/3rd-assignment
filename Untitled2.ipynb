{
 "cells": [
  {
   "cell_type": "code",
   "execution_count": 1,
   "id": "424c9a9f-5977-40b0-b6c1-6724919adc25",
   "metadata": {},
   "outputs": [
    {
     "name": "stdout",
     "output_type": "stream",
     "text": [
      "Hello, Alice!\n"
     ]
    }
   ],
   "source": [
    "#Q1 What is the difference between a function and a method in Python?\n",
    "\n",
    "#FUNCTION:\n",
    "#A function is a block of reusable code that is called independently of any object.\n",
    "#Functions can exist on their own, outside of a class.\n",
    "#They are defined using the def keyword\n",
    "\n",
    "#EXAMPLE\n",
    "\n",
    "def greet(name):\n",
    "    return f\"Hello, {name}!\"\n",
    "\n",
    "print(greet(\"Alice\")) \n"
   ]
  },
  {
   "cell_type": "code",
   "execution_count": 2,
   "id": "d310ed30-6b02-4257-b845-bc70a7995c0f",
   "metadata": {},
   "outputs": [
    {
     "name": "stdout",
     "output_type": "stream",
     "text": [
      "Hello, Alice!\n"
     ]
    }
   ],
   "source": [
    "#METHOD:\n",
    "#A method is a function that is associated with an object. In Python, methods are defined within classes.\n",
    "#A method must be called on an object or instance of a class.\n",
    "#The first parameter of a method is usually self, which refers to the instance calling the method.\n",
    "\n",
    "#EXAMPLE\n",
    "class Person:\n",
    "    def __init__(self, name):\n",
    "        self.name = name\n",
    "\n",
    "    def greet(self):\n",
    "        return f\"Hello, {self.name}!\"\n",
    "\n",
    "alice = Person(\"Alice\")\n",
    "print(alice.greet())  \n",
    "\n",
    "\n"
   ]
  },
  {
   "cell_type": "code",
   "execution_count": 6,
   "id": "91e31636-2fcd-4993-a293-0667196b9b47",
   "metadata": {},
   "outputs": [
    {
     "name": "stdout",
     "output_type": "stream",
     "text": [
      "Hello, Alice!\n"
     ]
    }
   ],
   "source": [
    "#Q2 Explain the concept of function arguments and parameters in Python\n",
    "\n",
    "#PARAMETERS\n",
    "#Parameters are the variables defined in the function signature (or definition).\n",
    "#They act as placeholders for the data (arguments) that will be passed when the function is called.\n",
    "\n",
    "#EXAMPLE\n",
    "\n",
    "def greet(name):  # 'name' is the parameter\n",
    "    return f\"Hello, {name}!\"\n",
    "\n",
    "#ARGUMENTS\n",
    "#Arguments are the actual values passed to the function when it is called.\n",
    "#They correspond to the parameters in the function definition.\n",
    "\n",
    "#EXAMPLE\n",
    "\n",
    "print(greet(\"Alice\"))  # 'Alice' is the argument\n",
    "\n",
    "\n"
   ]
  },
  {
   "cell_type": "code",
   "execution_count": 8,
   "id": "c6fa234c-5273-4a79-93cf-816b575a0ef5",
   "metadata": {},
   "outputs": [
    {
     "name": "stdout",
     "output_type": "stream",
     "text": [
      "Hello, Alice!\n"
     ]
    }
   ],
   "source": [
    "#Q3 What are the different ways to define and call a function in Python?\n",
    "\n",
    "#Basic Function Definition and Call:\n",
    "#A simple function can be defined using the def keyword, and called by its name with parentheses.\n",
    "\n",
    "#DEFINITION\n",
    "\n",
    "def greet(name):\n",
    "    return f\"Hello, {name}!\"\n",
    "    #CALL\n",
    "print(greet(\"Alice\")) \n",
    "\n"
   ]
  },
  {
   "cell_type": "code",
   "execution_count": 9,
   "id": "d4728c77-7b30-4dfd-851d-aecb5ecb97ae",
   "metadata": {},
   "outputs": [
    {
     "name": "stdout",
     "output_type": "stream",
     "text": [
      "Hello, Guest!\n",
      "Hello, Bob!\n"
     ]
    }
   ],
   "source": [
    "#Functions with Default Arguments\n",
    "#it can be define as functions with default parameter values. If an argument is not provided, the default value will be used.\n",
    "\n",
    "#DEFINITION\n",
    "def greet(name=\"Guest\"):\n",
    "    return f\"Hello, {name}!\"\n",
    "\n",
    "#call\n",
    "print(greet())         \n",
    "print(greet(\"Bob\"))     \n",
    "\n"
   ]
  },
  {
   "cell_type": "code",
   "execution_count": 10,
   "id": "84153e3f-f149-4454-9059-10a75fe22d97",
   "metadata": {},
   "outputs": [
    {
     "name": "stdout",
     "output_type": "stream",
     "text": [
      "My name is Alice and I am 30 years old.\n",
      "My name is Bob and I am 25 years old.\n"
     ]
    }
   ],
   "source": [
    " #Function with Keyword Arguments\n",
    "#When calling a function, we can specify arguments by name, regardless of their order in the function definition.\n",
    "\n",
    "#DEFINITION\n",
    "def introduce(name, age):\n",
    "    return f\"My name is {name} and I am {age} years old.\"\n",
    "#call\n",
    "print(introduce(name=\"Alice\", age=30)) \n",
    "print(introduce(age=25, name=\"Bob\"))   \n"
   ]
  },
  {
   "cell_type": "code",
   "execution_count": 11,
   "id": "16de1299-0952-43be-b0e6-def687d4ba24",
   "metadata": {},
   "outputs": [
    {
     "name": "stdout",
     "output_type": "stream",
     "text": [
      "8\n"
     ]
    }
   ],
   "source": [
    " #Q4 What is the purpose of the `return` statement in a Python function?\n",
    "\n",
    "#The return statement in a Python function is used to:\n",
    "\n",
    "#Return a value from the function to the caller (the part of the code where the function is called).\n",
    "#Terminate the function execution and exit the function when it is encountered, meaning any code after the return statement will not be executed.\n",
    "\n",
    "#EXAMPLE\n",
    "\n",
    "def add(a, b):\n",
    "    return a + b  # returns the sum of a and b\n",
    "\n",
    "result = add(5, 3)\n",
    "print(result) \n"
   ]
  },
  {
   "cell_type": "code",
   "execution_count": 14,
   "id": "618c1de2-9ca3-46e0-8707-7ce05399ab9c",
   "metadata": {},
   "outputs": [
    {
     "name": "stdout",
     "output_type": "stream",
     "text": [
      "1\n",
      "2\n",
      "3\n",
      "1\n",
      "2\n",
      "3\n"
     ]
    }
   ],
   "source": [
    "#Q5 What are iterators in Python and how do they differ from iterables?\n",
    "\n",
    "#Iterable: An object that can be iterated over (e.g., lists, strings) and produces an iterator when iter() is called.\n",
    "\n",
    "my_list = [1, 2, 3]\n",
    "for item in my_list:  # 'my_list' is an iterable\n",
    "    print(item)\n",
    "\n"
   ]
  },
  {
   "cell_type": "code",
   "execution_count": 15,
   "id": "4a905525-57ee-47f3-addd-18364354053b",
   "metadata": {},
   "outputs": [
    {
     "name": "stdout",
     "output_type": "stream",
     "text": [
      "1\n",
      "2\n",
      "3\n"
     ]
    }
   ],
   "source": [
    "#Iterator: An object that generates one element at a time from a collection, maintaining its state between iterations.\n",
    "my_list = [1, 2, 3]\n",
    "iterator = iter(my_list)  # 'iter()' returns an iterator from an iterable\n",
    "print(next(iterator))  \n",
    "print(next(iterator)) \n",
    "print(next(iterator))  \n"
   ]
  },
  {
   "cell_type": "code",
   "execution_count": null,
   "id": "0aa31ecd-7e8b-4cc7-a2ff-0f4a112f7073",
   "metadata": {},
   "outputs": [],
   "source": [
    "##Iterators allow efficient looping through large datasets, while iterables provide a way to convert data into iterators."
   ]
  },
  {
   "cell_type": "code",
   "execution_count": 16,
   "id": "038b8d22-a760-4363-8229-b3a77e1b117e",
   "metadata": {},
   "outputs": [
    {
     "name": "stdout",
     "output_type": "stream",
     "text": [
      "1\n",
      "2\n",
      "3\n"
     ]
    }
   ],
   "source": [
    "#Q6 Explain the concept of generators in Python and how they are defined\n",
    "\n",
    "#In Python, generators are a special type of iterator that allow you to iterate over a sequence of values lazily (i.e., one value at a time, only when needed). Generators are often more memory-efficient than other methods for creating iterators, especially when dealing with large datasets.\n",
    "#Defining Generators:\n",
    "#Generators are defined similarly to regular functions, but they use the yield keyword instead of return. Each time the generator's __next__() method is called (or you iterate through it), it produces the next value in the sequence and pauses at yield\n",
    "\n",
    "def count_up_to(max_value):\n",
    "    count = 1\n",
    "    while count <= max_value:\n",
    "        yield count\n",
    "        count += 1\n",
    "\n",
    "#CALLING THE GENERATOR:\n",
    "\n",
    "counter = count_up_to(3)\n",
    "\n",
    "print(next(counter))  \n",
    "print(next(counter))  \n",
    "print(next(counter))  \n",
    "\n"
   ]
  },
  {
   "cell_type": "code",
   "execution_count": null,
   "id": "93efff21-0bc5-403d-8ae5-653283cf7bb4",
   "metadata": {},
   "outputs": [],
   "source": [
    "#Q7 What are the advantages of using generators over regular functions?\n",
    "\n",
    "#Memory efficiency: Generators only produce one item at a time, which minimizes memory usage.\n",
    "#Handles infinite sequences: Can produce sequences that would be impossible to store in memory.\n",
    "#Improved performance: Initial computation and memory load are minimized since values are produced on demand.\n",
    "#State preservation: Automatically keeps track of where the function left off without manual state management.\n",
    "#Simpler code: Cleaner and more elegant for managing iterative processes or lazy evaluation.\n",
    "#Pipelining: Can chain multiple generators for efficient and composable data processing.\n",
    "#Quick access to partial results: Retrieve early results without computing the full sequence upfront.\n"
   ]
  },
  {
   "cell_type": "code",
   "execution_count": 17,
   "id": "1b031c4f-77bc-44f1-964e-29a420ba2537",
   "metadata": {},
   "outputs": [
    {
     "name": "stdout",
     "output_type": "stream",
     "text": [
      "8\n"
     ]
    }
   ],
   "source": [
    "#Q8 What is a lambda function in Python and when is it typically used?\n",
    "\n",
    "#A lambda function in Python is a small, anonymous function defined using the lambda keyword. Lambda functions are typically used for short, simple operations where defining a full function using def would be unnecessary or overly verbose. Unlike regular functions, lambda functions are restricted to a single expression, and they do not have a name unless assigned to one.\n",
    "# A lambda function to add two numbers\n",
    "\n",
    "add = lambda x, y: x + y\n",
    "\n",
    "# Calling the lambda function\n",
    "result = add(3, 5)\n",
    "print(result)  \n",
    "\n",
    "#TYPICALLY USE IN:\n",
    "#They are typically used in functional programming, for concise, temporary, or inline operations, especially as arguments to higher-order functions like map(), filter(), and sorted().\n",
    "#While convenient for simple operations, lambda functions should not be overused in cases where a more complex or reusable function is needed."
   ]
  },
  {
   "cell_type": "code",
   "execution_count": 18,
   "id": "693f0646-2506-4827-881b-5d2c6615623d",
   "metadata": {},
   "outputs": [
    {
     "name": "stdout",
     "output_type": "stream",
     "text": [
      "[1, 4, 9, 16, 25]\n"
     ]
    }
   ],
   "source": [
    " #Q9 Explain the purpose and usage of the `map()` function in Python.\n",
    "#The map() function applies a given function to each item of an iterable and returns a map object (iterator) with the results.\n",
    "\n",
    "# A function to square a number\n",
    "def square(x):\n",
    "    return x * x\n",
    "\n",
    "numbers = [1, 2, 3, 4, 5]\n",
    "\n",
    "squared_numbers = map(square, numbers)\n",
    "\n",
    "print(list(squared_numbers))  \n",
    "\n",
    "#USES:\n",
    "#It’s commonly used for data transformation, especially when applying the same operation to every element of a list, tuple, or other iterable.\n",
    "#The results from map() can be accessed by converting the map object to a list or using a for loop."
   ]
  },
  {
   "cell_type": "code",
   "execution_count": 19,
   "id": "b8ee2556-b189-47ad-9d2d-d082f01e8496",
   "metadata": {},
   "outputs": [
    {
     "name": "stdout",
     "output_type": "stream",
     "text": [
      "[1, 4, 9, 16]\n"
     ]
    }
   ],
   "source": [
    " #Q10 What is the difference between `map()`, `reduce()`, and `filter()` functions in Python?\n",
    "\n",
    "#map(): Applies a transformation to each item in an iterable, returning an iterable with the transformed values.\n",
    "\n",
    "numbers = [1, 2, 3, 4]\n",
    "squared = map(lambda x: x ** 2, numbers)\n",
    "print(list(squared)) \n",
    "\n"
   ]
  },
  {
   "cell_type": "code",
   "execution_count": 20,
   "id": "6b62ee71-8669-4740-a319-894ed357dad9",
   "metadata": {},
   "outputs": [
    {
     "name": "stdout",
     "output_type": "stream",
     "text": [
      "[2, 4, 6]\n"
     ]
    }
   ],
   "source": [
    "#filter(): Selects a subset of items that match a given condition, returning only those that satisfy it.\n",
    "\n",
    "numbers = [1, 2, 3, 4, 5, 6]\n",
    "even_numbers = filter(lambda x: x % 2 == 0, numbers)\n",
    "print(list(even_numbers))  \n"
   ]
  },
  {
   "cell_type": "code",
   "execution_count": 21,
   "id": "c1f83854-a896-4877-8712-78e19b094593",
   "metadata": {},
   "outputs": [
    {
     "name": "stdout",
     "output_type": "stream",
     "text": [
      "24\n"
     ]
    }
   ],
   "source": [
    "#reduce(): Aggregates all items in an iterable into a single value by applying a binary function repeatedly.\n",
    "\n",
    "from functools import reduce\n",
    "numbers = [1, 2, 3, 4]\n",
    "product = reduce(lambda x, y: x * y, numbers)\n",
    "print(product)  \n"
   ]
  },
  {
   "cell_type": "code",
   "execution_count": null,
   "id": "d506b16c-6c7b-4634-baf2-76ebd7e2191b",
   "metadata": {},
   "outputs": [],
   "source": [
    "#Practical Questions:"
   ]
  },
  {
   "cell_type": "code",
   "execution_count": 25,
   "id": "43585c8a-cf9f-4632-b46f-a654e30c8dc7",
   "metadata": {},
   "outputs": [
    {
     "name": "stdout",
     "output_type": "stream",
     "text": [
      "12\n"
     ]
    }
   ],
   "source": [
    "#Q1 Write a Python function that takes a list of numbers as input and returns the sum of all even numbers in the list.\n",
    "\n",
    "def sum_of_even_numbers(numbers):\n",
    "    # Define a lambda function to check if a number is even\n",
    "    is_even = lambda x: x % 2 == 0\n",
    "    \n",
    "    # Use filter() to get only even numbers\n",
    "\n",
    "    even_numbers = filter(is_even, numbers)\n",
    "    \n",
    "    # Use sum() to calculate the sum of even numbers\n",
    "    total_sum = sum(even_numbers)\n",
    "    \n",
    "    return total_sum\n",
    "\n",
    "\n",
    "\n",
    "numbers = [1, 2, 3, 4, 5, 6]\n",
    "result = sum_of_even_numbers(numbers)\n",
    "print(result)  \n"
   ]
  },
  {
   "cell_type": "code",
   "execution_count": 26,
   "id": "27d6e1d5-056b-4dbf-88cf-bec72b2fdf6b",
   "metadata": {},
   "outputs": [
    {
     "name": "stdout",
     "output_type": "stream",
     "text": [
      "olleh\n"
     ]
    }
   ],
   "source": [
    "#Q2 Create a Python function that accepts a string and returns the reverse of that string.\n",
    "def reverse_string(s):\n",
    "    return s[::-1]\n",
    "\n",
    "# Example usage\n",
    "input_string = \"hello\"\n",
    "reversed_string = reverse_string(input_string)\n",
    "print(reversed_string)  \n"
   ]
  },
  {
   "cell_type": "code",
   "execution_count": 27,
   "id": "33b31aa6-93b4-454b-b14c-34290b0efe89",
   "metadata": {},
   "outputs": [
    {
     "name": "stdout",
     "output_type": "stream",
     "text": [
      "[1, 4, 9, 16, 25]\n"
     ]
    }
   ],
   "source": [
    "#Q3 Implement a Python function that takes a list of integers and returns a new list containing the squares of each number.\n",
    "\n",
    "def square_numbers(numbers):\n",
    "    \n",
    "    return [x ** 2 for x in numbers]\n",
    "\n",
    "# Example usage\n",
    "input_list = [1, 2, 3, 4, 5]\n",
    "squared_list = square_numbers(input_list)\n",
    "print(squared_list)  \n"
   ]
  },
  {
   "cell_type": "code",
   "execution_count": 29,
   "id": "2f29db79-0436-4dd0-8f9c-b40350899eaa",
   "metadata": {},
   "outputs": [
    {
     "name": "stdout",
     "output_type": "stream",
     "text": [
      "2\n",
      "3\n",
      "5\n",
      "7\n",
      "11\n",
      "13\n",
      "17\n",
      "19\n",
      "23\n",
      "29\n",
      "31\n",
      "37\n",
      "41\n",
      "43\n",
      "47\n",
      "53\n",
      "59\n",
      "61\n",
      "67\n",
      "71\n",
      "73\n",
      "79\n",
      "83\n",
      "89\n",
      "97\n",
      "101\n",
      "103\n",
      "107\n",
      "109\n",
      "113\n",
      "127\n",
      "131\n",
      "137\n",
      "139\n",
      "149\n",
      "151\n",
      "157\n",
      "163\n",
      "167\n",
      "173\n",
      "179\n",
      "181\n",
      "191\n",
      "193\n",
      "197\n",
      "199\n"
     ]
    }
   ],
   "source": [
    "#Q4 Write a Python function that checks if a given number is prime or not from 1 to 200.\n",
    "\n",
    "def is_prime(number):\n",
    "   \n",
    "    if number <= 1:\n",
    "        return False\n",
    "    if number <= 3:\n",
    "        return True\n",
    "    if number % 2 == 0 or number % 3 == 0:\n",
    "        return False\n",
    "    i = 5\n",
    "    while i * i <= number:\n",
    "        if number % i == 0 or number % (i + 2) == 0:\n",
    "            return False\n",
    "        i += 6\n",
    "    return True\n",
    "\n",
    "# Example usage\n",
    "for num in range(1, 201):\n",
    "    if is_prime(num):\n",
    "        print(num)\n"
   ]
  },
  {
   "cell_type": "code",
   "execution_count": 31,
   "id": "6887c644-e4c1-4806-a35f-ec7bb56e16a0",
   "metadata": {},
   "outputs": [
    {
     "name": "stdout",
     "output_type": "stream",
     "text": [
      "0\n",
      "1\n",
      "1\n",
      "2\n",
      "3\n",
      "5\n",
      "8\n",
      "13\n",
      "21\n",
      "34\n"
     ]
    }
   ],
   "source": [
    "#Q5 Create an iterator class in Python that generates the Fibonacci sequence up to a specified number of terms.\n",
    "\n",
    "class FibonacciIterator:\n",
    "    def __init__(self, num_terms):\n",
    "        self.num_terms = num_terms\n",
    "        self.a, self.b = 0, 1\n",
    "        self.count = 0\n",
    "\n",
    "    def __iter__(self):\n",
    "        return self\n",
    "\n",
    "    def __next__(self):\n",
    "        if self.count >= self.num_terms:\n",
    "            raise StopIteration\n",
    "        else:\n",
    "            \n",
    "            fib_number = self.a\n",
    "            self.a, self.b = self.b, self.a + self.b\n",
    "            self.count += 1\n",
    "            return fib_number\n",
    "\n",
    "\n",
    "fib_sequence = FibonacciIterator(10)  \n",
    "\n",
    "for num in fib_sequence:\n",
    "    print(num)\n"
   ]
  },
  {
   "cell_type": "code",
   "execution_count": 32,
   "id": "74bb2560-37a4-45d0-b499-2b842656535a",
   "metadata": {},
   "outputs": [
    {
     "name": "stdout",
     "output_type": "stream",
     "text": [
      "1\n",
      "2\n",
      "4\n",
      "8\n",
      "16\n",
      "32\n"
     ]
    }
   ],
   "source": [
    "#Q6 Write a generator function in Python that yields the powers of 2 up to a given exponent.\n",
    "\n",
    "def powers_of_two(max_exponent):\n",
    "    \n",
    "    exponent = 0\n",
    "    while exponent <= max_exponent:\n",
    "        yield 2 ** exponent\n",
    "        exponent += 1\n",
    "\n",
    "# Example usage\n",
    "for power in powers_of_two(5):\n",
    "    print(power)\n",
    "\n",
    "\n"
   ]
  },
  {
   "cell_type": "code",
   "execution_count": 36,
   "id": "1ccfb8d6-8756-4870-916c-5b2373c80a4f",
   "metadata": {},
   "outputs": [
    {
     "name": "stdout",
     "output_type": "stream",
     "text": [
      "Error: The file 'example.txt' was not found.\n"
     ]
    }
   ],
   "source": [
    "#Q7  Implement a generator function that reads a file line by line and yields each line as a string\n",
    "\n",
    "def read_lines_from_file(file_path):\n",
    "   \n",
    "    try:\n",
    "        with open(file_path, 'r') as file:\n",
    "            while True:\n",
    "                line = file.readline()\n",
    "                if not line:\n",
    "                    break\n",
    "                yield line.rstrip('\\n') \n",
    "    except FileNotFoundError:\n",
    "        print(f\"Error: The file '{file_path}' was not found.\")\n",
    "    except IOError as e:\n",
    "        print(f\"Error: An IOError occurred. Details: {e}\")\n",
    "\n",
    "# Example usage\n",
    "file_path = 'example.txt'  \n",
    "for line in read_lines_from_file(file_path):\n",
    "    print(line)\n"
   ]
  },
  {
   "cell_type": "code",
   "execution_count": 37,
   "id": "cd697368-bd4e-4fe1-868c-26ba3235f766",
   "metadata": {},
   "outputs": [
    {
     "name": "stdout",
     "output_type": "stream",
     "text": [
      "[(2, 1), (3, 2), (1, 3), (4, 4)]\n"
     ]
    }
   ],
   "source": [
    "#Q8 Use a lambda function in Python to sort a list of tuples based on the second element of each tuple.\n",
    "\n",
    "\n",
    "data = [(1, 3), (2, 1), (3, 2), (4, 4)]\n",
    "\n",
    "# Sort the list of tuples based on the second element of each tuple\n",
    "sorted_data = sorted(data, key=lambda x: x[1])\n",
    "\n",
    "# Print the sorted list\n",
    "print(sorted_data)  # Output: [(2, 1), (3, 2), (1, 3), (4, 4)]\n"
   ]
  },
  {
   "cell_type": "code",
   "execution_count": 38,
   "id": "9a62c7d8-5016-4f19-872a-26e8cd5f5e3e",
   "metadata": {},
   "outputs": [
    {
     "name": "stdout",
     "output_type": "stream",
     "text": [
      "[32.0, 68.0, 98.6, 212.0]\n"
     ]
    }
   ],
   "source": [
    "#Q9 Write a Python program that uses `map()` to convert a list of temperatures from Celsius to Fahrenheit.\n",
    "\n",
    "def celsius_to_fahrenheit(celsius):\n",
    "   \n",
    "    return (celsius * 9/5) + 32\n",
    "\n",
    "# List of temperatures in Celsius\n",
    "celsius_temps = [0, 20, 37, 100]\n",
    "\n",
    "\n",
    "fahrenheit_temps = map(celsius_to_fahrenheit, celsius_temps)\n",
    "print(list(fahrenheit_temps)) \n"
   ]
  },
  {
   "cell_type": "code",
   "execution_count": 40,
   "id": "bf544415-63e0-4aa3-82fb-91053bb9f666",
   "metadata": {},
   "outputs": [
    {
     "name": "stdout",
     "output_type": "stream",
     "text": [
      "Hll, Wrld!\n"
     ]
    }
   ],
   "source": [
    "#Q10 Create a Python program that uses `filter()` to remove all the vowels from a given string\n",
    "\n",
    "def is_not_vowel(char):\n",
    "   \n",
    "    vowels = 'aeiouAEIOU'\n",
    "    return char not in vowels\n",
    "\n",
    "def remove_vowels(input_string):\n",
    "   \n",
    "    filtered_chars = filter(is_not_vowel, input_string)\n",
    "    return ''.join(filtered_chars)\n",
    "\n",
    "\n",
    "input_string = \"Hello, World!\"\n",
    "result = remove_vowels(input_string)\n",
    "print(result) \n"
   ]
  },
  {
   "cell_type": "code",
   "execution_count": null,
   "id": "0cbc041c-57a2-4c71-a6eb-f7fcac208b1f",
   "metadata": {},
   "outputs": [],
   "source": [
    "#Imagine an accounting routine used in a book shop. It works on a list with sublists, which look like this:\n",
    "\n",
    "# Order         Number book title and author             quantity       price per item    \n",
    "# 34587         learning python, mark lutz                4              40.95\n",
    "# 98762         programming python mark lutz              5              56.80\n",
    "# 77226         head first python , paul barry            3              32.95\n",
    "# 88112         enifuhrung in python 3, bernd klein       3              24.99\n",
    "\n",
    "#Write a Python program, which returns a list with 2-tuples. Each tuple consists of the order number and the product of the price per item and the quantity. The product should be increased by 10,- € if the value of the order is smaller than 100,00 €.\n",
    "\n",
    "#Write a Python program using lambda and map.\n",
    "# Given list of orders\n",
    "orders = [\n",
    "    (34587, 'Learning Python, Mark Lutz', 4, 40.95),\n",
    "    (98762, 'Programming Python, Mark Lutz', 5, 56.80),\n",
    "    (77226, 'Head First Python, Paul Barry', 3, 32.95),\n",
    "    (88112, 'Einführung in Python3, Bernd Klein', 3, 24.99)\n",
    "]\n",
    "\n",
    "# Using lambda and map to calculate the desired output\n",
    "result = list(map(lambda order: (order[0], order[2] * order[3] + 10 if order[2] * order[3] < 100 else order[2] * order[3]), orders))\n",
    "\n",
    "# Printing the result\n",
    "print(result)\n"
   ]
  }
 ],
 "metadata": {
  "kernelspec": {
   "display_name": "Python 3 (ipykernel)",
   "language": "python",
   "name": "python3"
  },
  "language_info": {
   "codemirror_mode": {
    "name": "ipython",
    "version": 3
   },
   "file_extension": ".py",
   "mimetype": "text/x-python",
   "name": "python",
   "nbconvert_exporter": "python",
   "pygments_lexer": "ipython3",
   "version": "3.12.4"
  }
 },
 "nbformat": 4,
 "nbformat_minor": 5
}
